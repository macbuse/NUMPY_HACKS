{
 "cells": [
  {
   "cell_type": "code",
   "execution_count": 1,
   "id": "803a54dc-dc16-4824-a824-929a58e33adf",
   "metadata": {},
   "outputs": [],
   "source": [
    "import numpy as np\n",
    "import scipy\n",
    "from scipy import signal\n",
    "import random"
   ]
  },
  {
   "cell_type": "markdown",
   "id": "5998d743-7010-4500-ae7d-80eb0623ba2e",
   "metadata": {},
   "source": [
    "\n",
    "    new_node = tuple(random.choice(F))\n",
    "    # any number bigger than 4 = max neighbors works\n",
    "    V[new_node] = 10\n",
    "    S = signal.convolve2d( #  Random Maze generators\n",
    "\n",
    "Prim’s approach starts at the root vertex for the spanning tree, and grows outward from there. The standard version of the algorithm works something like this:\n",
    "\n",
    "1. Choose an arbitrary vertex from G (the graph), and add it to some (initially empty) set V.\n",
    "1. Choose the edge with the smallest weight from G, that connects a vertex in V with another vertex not in V.\n",
    "1. Add that edge to the minimal spanning tree, and the edge’s other vertex to V.\n",
    "1. Repeat steps 2 and 3 until V includes every vertex in G.\n",
    "\n",
    "\n",
    "And the result is a minimal spanning tree of G\n",
    "\n",
    "---\n",
    "\n",
    "This is a **Ruby** implementation.\n",
    "\n",
    "\n",
    "https://weblog.jamisbuck.org/2011/1/10/maze-generation-prim-s-algorithm\n",
    "\n",
    "\n",
    "This implementation is pretty good. It must be about 60-70 SLOC depending how you count.\n",
    "It uses quite a few clever logical expressions\n",
    "\n",
    "\n",
    "I'm going to use 2 masks\n",
    "- ```S*(1-M) > 0``` to get the frontier points\n",
    "- ```(S*M > 4) & (M == 1))``` to get the neighbors of a frontier point in the tree."
   ]
  },
  {
   "cell_type": "markdown",
   "id": "b5cab076-6cc9-4aee-98df-b8086278a8b5",
   "metadata": {},
   "source": [
    "---\n",
    "\n",
    "# First version"
   ]
  },
  {
   "cell_type": "code",
   "execution_count": 181,
   "id": "36550bfb-939b-4da5-9417-99c228ad1d65",
   "metadata": {},
   "outputs": [],
   "source": [
    "\n",
    "\n",
    "K = np.zeros((3,3), dtype=np.int8)\n",
    "K[0,1] = K[1,0] = K[2,1] = K[1,2] = 1\n",
    "\n",
    "size = 20\n",
    "V = np.zeros((size,size))\n",
    "root = np.random.randint(0,high=size,size=2)\n",
    "V[tuple(root)] = 1\n",
    "\n",
    "tree_edges = []\n",
    "\n",
    "\n",
    "while True:\n",
    "    S = signal.convolve2d( V, K)[1:-1,1:-1]\n",
    "    F = np.array(np.where( S*(1-V) > 0)).T\n",
    "    if len(F) < 1 : break\n",
    "    new_node = tuple(random.choice(F))\n",
    "    # any number bigger than 4 = max neighbors works\n",
    "    V[new_node] = 10\n",
    "    S = signal.convolve2d( V, K)[1:-1,1:-1]\n",
    "    parent_node = random.choice( np.array(np.where((S*V > 4) & (V == 1))).T) \n",
    "    V[new_node] = 1\n",
    "    tree_edges.append((new_node, parent_node))\n",
    "    "
   ]
  },
  {
   "cell_type": "code",
   "execution_count": 182,
   "id": "bc0598bc-6cf0-429c-b11f-9d5978852b59",
   "metadata": {},
   "outputs": [
    {
     "data": {
      "image/png": "[encoded data removed]",
      "text/plain": [
       "<Figure size 432x432 with 1 Axes>"
      ]
     },
     "metadata": {
      "needs_background": "light"
     },
     "output_type": "display_data"
    }
   ],
   "source": [
    "import matplotlib.pyplot as plt\n",
    "\n",
    "fig, ax = plt.subplots()\n",
    "fig.set_size_inches(6,6)\n",
    "ax.axis('off')\n",
    "\n",
    "for x in tree_edges[:]:\n",
    "    X, Y = np.array(x).T\n",
    "    plt.plot(X,Y,'r')\n",
    "    "
   ]
  },
  {
   "cell_type": "code",
   "execution_count": 22,
   "id": "cd37effb-4d02-48c0-97bc-244dd1fd6557",
   "metadata": {},
   "outputs": [
    {
     "data": {
      "text/plain": [
       "array([12,  8])"
      ]
     },
     "execution_count": 22,
     "metadata": {},
     "output_type": "execute_result"
    }
   ],
   "source": [
    "np.random.randint(0,high=size,size=2)"
   ]
  },
  {
   "cell_type": "markdown",
   "id": "16d3a471-9b02-4c15-a112-52b70a219a36",
   "metadata": {},
   "source": [
    "---\n",
    "\n",
    "# Second version getting rid of one of the convolutions"
   ]
  },
  {
   "cell_type": "code",
   "execution_count": 115,
   "id": "017983a1-81cf-4ec6-8131-45ba6a29c80d",
   "metadata": {},
   "outputs": [
    {
     "data": {
      "text/plain": [
       "([array([1, 1]), array([0, 2]), array([0, 0])], 6)"
      ]
     },
     "execution_count": 115,
     "metadata": {},
     "output_type": "execute_result"
    }
   ],
   "source": [
    "nbs([0,1]), size"
   ]
  },
  {
   "cell_type": "code",
   "execution_count": 152,
   "id": "afbe4ac7-3bc9-4e02-bd4b-84bbad90d843",
   "metadata": {},
   "outputs": [],
   "source": [
    "def nbs(pt):\n",
    "    #size is global\n",
    "    moves = np.array([ [1,0,-1,0],[0,1,0,-1]]).T + pt\n",
    "    return [ x for x in moves if max(x) < size and min(x) > -1]\n",
    "\n",
    "\n",
    "K = np.zeros((3,3), dtype=np.int8)\n",
    "K[0,1] = K[1,0] = K[2,1] = K[1,2] = 1\n",
    "\n",
    "size = 8\n",
    "V = np.zeros((size,size))\n",
    "root = np.random.randint(0, high=size, size=2)\n",
    "V[tuple(root)] = 1\n",
    "\n",
    "tree_edges = []"
   ]
  },
  {
   "cell_type": "code",
   "execution_count": 134,
   "id": "0e9523ab-1294-49c7-b7dd-e7df5b233dc6",
   "metadata": {},
   "outputs": [],
   "source": [
    "for _ in  range(80):\n",
    "    S = signal.convolve2d( V, K)[1:-1,1:-1]\n",
    "    frontier = np.array(np.where( S*(1-V) > 0)).T\n",
    "    if len(frontier) < 1 : break\n",
    "    new_node = tuple(random.choice(frontier))\n",
    "    V[new_node] = 1\n",
    "    # this is a more local version\n",
    "    parent_node  = random.choice([ x for x in nbs(new_node) if V[tuple(x)]  == 1 ])\n",
    "    tree_edges.append((new_node, parent_node))\n"
   ]
  },
  {
   "cell_type": "markdown",
   "id": "5e8673bd-ac7b-494c-b123-f2c64c51074d",
   "metadata": {},
   "source": [
    "---\n",
    "\n",
    "# Third verion inlining the helper function"
   ]
  },
  {
   "cell_type": "code",
   "execution_count": 183,
   "id": "e8e979f3-81e7-4ac4-9d29-dedb2f30afaf",
   "metadata": {},
   "outputs": [],
   "source": [
    "K = np.zeros((3,3), dtype=np.int8)\n",
    "K[0,1] = K[1,0] = K[2,1] = K[1,2] = 1\n",
    "\n",
    "#directions\n",
    "NEWS = np.array([ [1,0,-1,0],[0,1,0,-1]]).T\n",
    "\n",
    "size = 30\n",
    "V = np.zeros((size,size))\n",
    "root = np.random.randint(0, high=size, size=2)\n",
    "V[tuple(root)] = 1\n",
    "\n",
    "tree_edges = []"
   ]
  },
  {
   "cell_type": "code",
   "execution_count": 184,
   "id": "d0d11b24-ebf0-485a-9a8a-b29652b27298",
   "metadata": {},
   "outputs": [],
   "source": [
    "while True:\n",
    "    # this should be made local\n",
    "    S = signal.convolve2d( V, K)[1:-1,1:-1]\n",
    "    frontier = np.array(np.where( S*(1-V) > 0)).T\n",
    "    if len(frontier) < 1 : break\n",
    "    new_node = tuple(random.choice(frontier))\n",
    "    V[new_node] = 1\n",
    "    # this is a more local version\n",
    "    moves = NEWS + new_node\n",
    "    valid_moves = moves[np.all((moves < size) & (moves > -1), axis =1)]\n",
    "    parent_node = random.choice([ x for x in valid_moves if V[tuple(x)]  == 1 ])\n",
    "    tree_edges.append((new_node, parent_node))"
   ]
  },
  {
   "cell_type": "code",
   "execution_count": 185,
   "id": "3e418d80-467d-4dce-8646-de5c4ce66a23",
   "metadata": {},
   "outputs": [
    {
     "data": {
      "image/png": "[encoded data removed]",
      "text/plain": [
       "<Figure size 432x432 with 1 Axes>"
      ]
     },
     "metadata": {
      "needs_background": "light"
     },
     "output_type": "display_data"
    }
   ],
   "source": [
    "import matplotlib.pyplot as plt\n",
    "\n",
    "fig, ax = plt.subplots()\n",
    "fig.set_size_inches(6,6)\n",
    "ax.axis('off')\n",
    "\n",
    "for x in tree_edges[:]:\n",
    "    X, Y = np.array(x).T\n",
    "    plt.plot(X,Y,'r')"
   ]
  },
  {
   "cell_type": "code",
   "execution_count": null,
   "id": "06024ed7-82bc-4c23-8b27-86b96951330b",
   "metadata": {},
   "outputs": [],
   "source": []
  }
 ],
 "metadata": {
  "kernelspec": {
   "display_name": "Python 3 (ipykernel)",
   "language": "python",
   "name": "python3"
  },
  "language_info": {
   "codemirror_mode": {
    "name": "ipython",
    "version": 3
   },
   "file_extension": ".py",
   "mimetype": "text/x-python",
   "name": "python",
   "nbconvert_exporter": "python",
   "pygments_lexer": "ipython3",
   "version": "3.9.12"
  },
  "widgets": {
   "application/vnd.jupyter.widget-state+json": {
    "state": {},
    "version_major": 2,
    "version_minor": 0
   }
  }
 },
 "nbformat": 4,
 "nbformat_minor": 5
}
